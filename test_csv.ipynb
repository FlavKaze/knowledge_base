{
 "cells": [
  {
   "cell_type": "code",
   "execution_count": 22,
   "metadata": {},
   "outputs": [],
   "source": [
    "csv_text = '\"Tipo de identificação do destinatário\";\"Número de identificação do destinatário\";\"Agência de destino\";\"Boleto bancário\";\"CNPJ\";\"CPF\";\"Canal\";\"Código do país\";\"Data da transação\";\"Endereço da empresa\";\"Endereço de cobrança\";\"Endereço de entrega\";\"ID da máquina\";\"ID da sessão\";\"ID do dispositivo móvel\";\"ID do navegador\";\"IP\";\"Id da transação\";\"Informações sobre a Instituição de destino\";\"Latitude GEOIP\";\"Latitude GPS\";\"Login do destinatário\";\"Longitude GEOIP\";\"Longitude GPS\";\"Lugar de nascimento\";\"Modelo do dispositivo\";\"Nome\";\"Nome do destinatário\";\"Nível vip\";\"Número da conta do destinatário\";\"Números de telefone\";\"Perfil da conta\";\"Perfil da conta do destinatário\";\"Profissão\";\"RG\";\"Reasons\";\"Região\";\"SSID\";\"Score\";\"Tags\";\"Tags - homologação\";\"Tipo de conta\";\"Tipo de conta do destinatário\";\"Tipo de transação\";\"Valor da transação\";\"email\"\\n\"BR-CPF\";\"10100\";\"recipient_branch\";\"bank_slip\";\"38452908000163\";\"12312312312\";\"Browser mobile\";\"country_code\";\"10/07/2024 00:00:01\";\"address1, number, address2 - city - state - country - zip\";\"address1, number, address2 - city - state - country - zip\";\"address1, number, address2 - city - state - country - zip\";;\"123456\";\"0#077PIhUANkMXPVEscEtRtMojkXn1LtJrtBwzELUPg9A=\";\"ofdb_0#Dq+D9BQ7ETU1WkZS8uZlLg==\";\"10.106.10.10\";\"transacao1\";\"recipient_institution_info\";-8.52396268192503;-9.52396268192503;\"recipient_login\";179.19684373188323;178.19684373188323;\"city - state - country\";\"iPhone 12 Pro Max\";\"name\";\"recipient_user_name\";1;\"recipient_account_number\";\"number1 / number2\";\"Pessoa jurídica\";\"Pessoa jurídica\";\"profession\";\"rg\";\"reason1, reason2\";\"region_name\";\"Wifi Muito Rápida\";54;\"tag1, tag2\";\"Ransomware, Malware\";\"Conta Corrente\";\"Conta Corrente\";\"5.2 - TED\";10.1;\"fulano@email.com\"'"
   ]
  },
  {
   "cell_type": "code",
   "execution_count": 23,
   "metadata": {},
   "outputs": [],
   "source": [
    "import csv\n",
    "from pprint import pprint"
   ]
  },
  {
   "cell_type": "code",
   "execution_count": 24,
   "metadata": {},
   "outputs": [
    {
     "data": {
      "text/plain": [
       "['\"Tipo de identificação do destinatário\";\"Número de identificação do destinatário\";\"Agência de destino\";\"Boleto bancário\";\"CNPJ\";\"CPF\";\"Canal\";\"Código do país\";\"Data da transação\";\"Endereço da empresa\";\"Endereço de cobrança\";\"Endereço de entrega\";\"ID da máquina\";\"ID da sessão\";\"ID do dispositivo móvel\";\"ID do navegador\";\"IP\";\"Id da transação\";\"Informações sobre a Instituição de destino\";\"Latitude GEOIP\";\"Latitude GPS\";\"Login do destinatário\";\"Longitude GEOIP\";\"Longitude GPS\";\"Lugar de nascimento\";\"Modelo do dispositivo\";\"Nome\";\"Nome do destinatário\";\"Nível vip\";\"Número da conta do destinatário\";\"Números de telefone\";\"Perfil da conta\";\"Perfil da conta do destinatário\";\"Profissão\";\"RG\";\"Reasons\";\"Região\";\"SSID\";\"Score\";\"Tags\";\"Tags - homologação\";\"Tipo de conta\";\"Tipo de conta do destinatário\";\"Tipo de transação\";\"Valor da transação\";\"email\"',\n",
       " '\"BR-CPF\";\"10100\";\"recipient_branch\";\"bank_slip\";\"38452908000163\";\"12312312312\";\"Browser mobile\";\"country_code\";\"10/07/2024 00:00:01\";\"address1, number, address2 - city - state - country - zip\";\"address1, number, address2 - city - state - country - zip\";\"address1, number, address2 - city - state - country - zip\";;\"123456\";\"0#077PIhUANkMXPVEscEtRtMojkXn1LtJrtBwzELUPg9A=\";\"ofdb_0#Dq+D9BQ7ETU1WkZS8uZlLg==\";\"10.106.10.10\";\"transacao1\";\"recipient_institution_info\";-8.52396268192503;-9.52396268192503;\"recipient_login\";179.19684373188323;178.19684373188323;\"city - state - country\";\"iPhone 12 Pro Max\";\"name\";\"recipient_user_name\";1;\"recipient_account_number\";\"number1 / number2\";\"Pessoa jurídica\";\"Pessoa jurídica\";\"profession\";\"rg\";\"reason1, reason2\";\"region_name\";\"Wifi Muito Rápida\";54;\"tag1, tag2\";\"Ransomware, Malware\";\"Conta Corrente\";\"Conta Corrente\";\"5.2 - TED\";10.1;\"fulano@email.com\"']"
      ]
     },
     "execution_count": 24,
     "metadata": {},
     "output_type": "execute_result"
    }
   ],
   "source": [
    "csv_text.splitlines()"
   ]
  },
  {
   "cell_type": "code",
   "execution_count": 28,
   "metadata": {},
   "outputs": [],
   "source": [
    "def get_csv_content(csv_text: str):\n",
    "    sniffer = csv.Sniffer()\n",
    "    delimiter = sniffer.sniff(csv_text).delimiter\n",
    "    dict_reader = csv.DictReader(csv_text.splitlines(), delimiter=delimiter)\n",
    "    # lower all headers and remove accents\n",
    "    data = []\n",
    "    for row in dict_reader:\n",
    "        data.append({key.lower(): value for key, value in row.items()})\n",
    "            \n",
    "    return data"
   ]
  },
  {
   "cell_type": "code",
   "execution_count": null,
   "metadata": {},
   "outputs": [],
   "source": [
    "get_csv_content(csv_text)"
   ]
  }
 ],
 "metadata": {
  "kernelspec": {
   "display_name": "venv",
   "language": "python",
   "name": "python3"
  },
  "language_info": {
   "codemirror_mode": {
    "name": "ipython",
    "version": 3
   },
   "file_extension": ".py",
   "mimetype": "text/x-python",
   "name": "python",
   "nbconvert_exporter": "python",
   "pygments_lexer": "ipython3",
   "version": "3.11.9"
  }
 },
 "nbformat": 4,
 "nbformat_minor": 2
}
