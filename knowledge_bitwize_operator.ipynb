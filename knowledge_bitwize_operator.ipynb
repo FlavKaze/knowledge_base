{
 "cells": [
  {
   "cell_type": "markdown",
   "metadata": {},
   "source": [
    "https://realpython.com/python-bitwise-operators/"
   ]
  },
  {
   "cell_type": "code",
   "execution_count": 1,
   "metadata": {},
   "outputs": [
    {
     "name": "stdout",
     "output_type": "stream",
     "text": [
      "True\n",
      "False\n",
      "CPU times: user 186 µs, sys: 60 µs, total: 246 µs\n",
      "Wall time: 240 µs\n"
     ]
    }
   ],
   "source": [
    "%%time\n",
    "# End operator &\n",
    "#test if number is even or odd\n",
    "def is_even(n):\n",
    "    \"\"\"\n",
    "    using bitwise operator end to test if last bit is 1 or 0, 1 means odd, 0 means even\n",
    "    because odd number always have last bit as 1\n",
    "    example 7 = 111, 6 = 110 using bitwise operator end 7 & 1 = 1, 6 & 1 = 0\n",
    "    \"\"\"\n",
    "    return not n & 1\n",
    "\n",
    "print(is_even(2))\n",
    "print(is_even(3))"
   ]
  },
  {
   "cell_type": "code",
   "execution_count": 161,
   "metadata": {},
   "outputs": [],
   "source": [
    "def is_even_v2(n):\n",
    "    \"\"\"Divide by 2 and check if there is a remainder. If there is no remainder, the number is even.\"\"\"\n",
    "    return n % 2 == 0"
   ]
  },
  {
   "cell_type": "code",
   "execution_count": 216,
   "metadata": {},
   "outputs": [
    {
     "name": "stdout",
     "output_type": "stream",
     "text": [
      "0.048662810993846506\n",
      "0.03637600799265783\n"
     ]
    }
   ],
   "source": [
    "import timeit\n",
    "print(timeit.timeit(\"is_even_v2(2)\", setup='from __main__ import is_even_v2', number=1_000_000))\n",
    "print(timeit.timeit(\"is_even(2)\", setup='from __main__ import is_even', number=1_000_000))"
   ]
  },
  {
   "cell_type": "code",
   "execution_count": 221,
   "metadata": {},
   "outputs": [
    {
     "name": "stdout",
     "output_type": "stream",
     "text": [
      "True\n",
      "False\n"
     ]
    }
   ],
   "source": [
    "# Or operator |\n",
    "def is_odd(n):\n",
    "    \"\"\"\n",
    "    using bitwise operator or to test if last bit is 1 or 0, 1 means odd, 0 means even\n",
    "    because odd number always have last bit as 1\n",
    "    example 7 = 111, 6 = 110 using bitwise operator or 7 | 1 = 7, 6 | 1 = 7\n",
    "    \"\"\"\n",
    "    if (n | 1 > n):\n",
    "        return False\n",
    "    else:\n",
    "        return True\n",
    "    \n",
    "print(is_odd(5))\n",
    "print(is_odd(2))\n",
    "\n"
   ]
  },
  {
   "cell_type": "code",
   "execution_count": 222,
   "metadata": {},
   "outputs": [
    {
     "name": "stdout",
     "output_type": "stream",
     "text": [
      "True\n",
      "False\n"
     ]
    }
   ],
   "source": [
    "# XOR operator ^\n",
    "def is_odd(n):\n",
    "    #using bitwise operator xor to test if last bit is 1 or 0, 1 means odd, 0 means even\n",
    "    # because odd number always have last bit as 1\n",
    "    # example 7 = 111, 6 = 110 using bitwise operator xor 7 ^ 1 = 6, 6 ^ 1 = 7\n",
    "    if (n ^ 1 > n):\n",
    "        return False\n",
    "    else:\n",
    "        return True\n",
    "    \n",
    "print(is_odd(5))\n",
    "print(is_odd(2))\n"
   ]
  }
 ],
 "metadata": {
  "kernelspec": {
   "display_name": "venv",
   "language": "python",
   "name": "python3"
  },
  "language_info": {
   "codemirror_mode": {
    "name": "ipython",
    "version": 3
   },
   "file_extension": ".py",
   "mimetype": "text/x-python",
   "name": "python",
   "nbconvert_exporter": "python",
   "pygments_lexer": "ipython3",
   "version": "3.11.9"
  }
 },
 "nbformat": 4,
 "nbformat_minor": 2
}
